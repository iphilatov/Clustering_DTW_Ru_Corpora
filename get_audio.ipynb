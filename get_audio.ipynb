{
 "cells": [
  {
   "attachments": {},
   "cell_type": "markdown",
   "metadata": {},
   "source": [
    "This notebook presents the Python code which we used to retrieve audio files (WAV) from web-corpora"
   ]
  },
  {
   "cell_type": "code",
   "execution_count": null,
   "metadata": {},
   "outputs": [],
   "source": [
    "import pandas as pd\n",
    "import requests\n",
    "from transliterate import translit"
   ]
  },
  {
   "cell_type": "code",
   "execution_count": null,
   "metadata": {},
   "outputs": [],
   "source": [
    "two_slog = pd.read_csv('two_syllable.csv', encoding='utf8')"
   ]
  },
  {
   "cell_type": "code",
   "execution_count": null,
   "metadata": {},
   "outputs": [],
   "source": [
    "count = 0\n",
    "list_of_corpuses = list()\n",
    "list_of_words = list()\n",
    "list_of_speakers = list()\n",
    "\n",
    "for occurence in two_slog.loc:\n",
    "    \n",
    "    corpus_name = str(occurence.corpus)\n",
    "    word = translit(str(occurence.token), \"ru\", reversed=True)\n",
    "    link_ = occurence.link\n",
    "    speaker = occurence.tier_name\n",
    "    \n",
    "    if corpus_name not in list_of_corpuses:\n",
    "        list_of_corpuses.append(corpus_name)\n",
    "        count = 0\n",
    "\n",
    "    if word not in list_of_words:\n",
    "        list_of_words.append(word)\n",
    "        count = 0\n",
    "\n",
    "    if speaker not in list_of_speakers:\n",
    "        list_of_speakers.append(speaker)\n",
    "        count = 0\n",
    "\n",
    "    count += 1\n",
    "\n",
    "    r = requests.get(link_, allow_redirects=True)\n",
    "    new_name = '{word}_{speaker}_{corpus_name}_{count}.wav'.format(corpus_name = corpus_name, speaker = speaker, word = word, count = count)\n",
    "    open('two_slogs/'+new_name, 'wb').write(r.content)"
   ]
  }
 ],
 "metadata": {
  "kernelspec": {
   "display_name": "base",
   "language": "python",
   "name": "python3"
  },
  "language_info": {
   "codemirror_mode": {
    "name": "ipython",
    "version": 3
   },
   "file_extension": ".py",
   "mimetype": "text/x-python",
   "name": "python",
   "nbconvert_exporter": "python",
   "pygments_lexer": "ipython3",
   "version": "3.8.8"
  },
  "orig_nbformat": 4,
  "vscode": {
   "interpreter": {
    "hash": "84a165ba30c015c5a3f42350cf03c5998e9c8d36ba02510fcda1adb124648e6e"
   }
  }
 },
 "nbformat": 4,
 "nbformat_minor": 2
}
